{
 "cells": [
  {
   "cell_type": "code",
   "execution_count": 1,
   "id": "718e3e0f-b4b7-41ee-9f23-cfd2f871b477",
   "metadata": {},
   "outputs": [],
   "source": [
    "import math as m"
   ]
  },
  {
   "cell_type": "code",
   "execution_count": 53,
   "id": "c83ef74e-d943-4c06-a18d-b78476337817",
   "metadata": {},
   "outputs": [],
   "source": [
    "# 1. Fib\n",
    "\n",
    "def fib(n):\n",
    "    firstnum = 1\n",
    "    nextnum = 1\n",
    "    fib = 1\n",
    "    if n == 0:\n",
    "        return 0\n",
    "    for i in range(n):\n",
    "        print(str(fib))\n",
    "        firstnum = nextnum\n",
    "        nextnum = fib\n",
    "        fib = firstnum + nextnum"
   ]
  },
  {
   "cell_type": "code",
   "execution_count": 77,
   "id": "cd356265-9562-4acb-987e-ce0c27db142b",
   "metadata": {},
   "outputs": [],
   "source": [
    "# 2. Prime factorization\n",
    "\n",
    "def isprime(n):\n",
    "    for i in range(2,n-1):\n",
    "        if n%i == 0:\n",
    "            print(i)\n",
    "            continue\n",
    "        else:\n",
    "            continue\n",
    "        return 'List of all prime factors'\n",
    "    return 'Prime'"
   ]
  },
  {
   "cell_type": "code",
   "execution_count": 52,
   "id": "aa5f1a73-aef8-42cd-8dce-378bc166ed3f",
   "metadata": {},
   "outputs": [],
   "source": [
    "# 3. Next prime\n",
    "\n",
    "def returnprime():\n",
    "    n = 2\n",
    "    divisible = []\n",
    "    prime = [2]\n",
    "    for i in range(3,500):\n",
    "        for n in range(2, i):\n",
    "            #print(n)\n",
    "            if i%n == 0:\n",
    "                #print(i)\n",
    "                divisible.append(i)\n",
    "                break\n",
    "        if i not in divisible:\n",
    "            prime.append(i)\n",
    "    #print(prime)\n",
    "    n = 0\n",
    "    while True:\n",
    "        inp = input('Do you want to continue? Press a to continue, any other key to exit')\n",
    "        if inp == 'a':\n",
    "            print(prime[n])\n",
    "            n += 1\n",
    "            #print(n)\n",
    "        else:\n",
    "            return 'Exit'\n",
    "        \n",
    "returnprime()"
   ]
  },
  {
   "cell_type": "code",
   "execution_count": 185,
   "id": "86cb77b3-8a0b-465e-8d19-c6185c103991",
   "metadata": {},
   "outputs": [],
   "source": [
    "# Mortgage calculator\n",
    "\n",
    "def mortgage(principal, years, rate):\n",
    "    comp = input('Compounded daily(d), weekly(w), monthly(m) or annually(a)?')\n",
    "    if comp == 'd':\n",
    "        time = years*365\n",
    "    elif comp == 'w':\n",
    "        time = years*52\n",
    "    elif comp == 'm':\n",
    "        time = years*12\n",
    "    else:\n",
    "        time = years\n",
    "    time = round(time)\n",
    "    rate = rate/100\n",
    "    emitime = years*12\n",
    "        \n",
    "    for i in range(time):\n",
    "        interest = rate*principal\n",
    "        newprincipal = principal + interest\n",
    "        principal = newprincipal\n",
    "        \n",
    "    print('Final payment: ' + str(principal))\n",
    "    print(f'EMI: {principal/emitime}')"
   ]
  },
  {
   "cell_type": "code",
   "execution_count": 186,
   "id": "3ef10dec-26ce-4369-a7c2-90276dbaddeb",
   "metadata": {},
   "outputs": [
    {
     "name": "stdin",
     "output_type": "stream",
     "text": [
      "Compounded daily(d), weekly(w), monthly(m) or annually(a)? m\n"
     ]
    },
    {
     "name": "stdout",
     "output_type": "stream",
     "text": [
      "Final payment: 9270906.881783\n",
      "EMI: 77257.55734819167\n"
     ]
    }
   ],
   "source": [
    "# Change return program\n",
    "\n"
   ]
  },
  {
   "cell_type": "code",
   "execution_count": 69,
   "id": "790ffe36-4cbb-4e87-8bce-d7e318bcd84e",
   "metadata": {},
   "outputs": [],
   "source": [
    "def twosum(nums, target):\n",
    "    final = []\n",
    "    nums2 = nums.copy()\n",
    "    for i in range(len(nums)):\n",
    "        num1 = nums[i]\n",
    "        nums2.remove(num1)\n",
    "        for n in range(len(nums2)):\n",
    "            #print(num1)\n",
    "            num2 = nums2[n]\n",
    "            finalsum = num1 + num2\n",
    "            if finalsum == target:\n",
    "                final2 = nums.copy()\n",
    "                final2.remove(num1)\n",
    "                if num1 in final2:\n",
    "                    print(nums.index(num1,1))\n",
    "                    final.append(nums.index(num1))\n",
    "                    index = nums.index(num1)\n",
    "                    final.append(nums.index(num1, index+1))\n",
    "                    return final\n",
    "                else:\n",
    "                    print(num1, num2)\n",
    "                    final.append(nums.index(num1))\n",
    "                    final.append(nums.index(num2))\n",
    "                    return final\n",
    "    print(final)"
   ]
  },
  {
   "cell_type": "code",
   "execution_count": 70,
   "id": "4e56d317-3e4f-4d46-b78b-b70af6b377cd",
   "metadata": {},
   "outputs": [
    {
     "name": "stdout",
     "output_type": "stream",
     "text": [
      "1\n"
     ]
    },
    {
     "data": {
      "text/plain": [
       "[1, 2]"
      ]
     },
     "execution_count": 70,
     "metadata": {},
     "output_type": "execute_result"
    }
   ],
   "source": [
    "twosum([2,5,5,11], 10)"
   ]
  },
  {
   "cell_type": "code",
   "execution_count": 23,
   "id": "2573e3d4-2c11-4823-b579-ed25a4b16196",
   "metadata": {},
   "outputs": [],
   "source": [
    "# 2. Add Two Numbers\n",
    "\n",
    "def addTwoNumbers(l1, l2):\n",
    "    \n",
    "    # Reproduce a number by multiplying by the power of 10\n",
    "    num1, num2 = 0, 0\n",
    "    for i in l1:\n",
    "        num1 = num1 + i*10**l1.index(i)\n",
    "    for i in l2:\n",
    "        num2 = num2 + i*10**l2.index(i)\n",
    "        \n",
    "    num = num1 + num2\n",
    "    \n",
    "    # Count the digits in your number\n",
    "    temp = num\n",
    "    count = 0\n",
    "    while temp>0:\n",
    "        count += 1\n",
    "        temp = temp//10\n",
    "    \n",
    "    # Put the number back into a list\n",
    "    f = []\n",
    "    for i in reversed(range(count)):\n",
    "        li = num//10**i\n",
    "        num = num - li*10**i\n",
    "        f.append(li)\n",
    "    \n",
    "    return(f)"
   ]
  },
  {
   "cell_type": "code",
   "execution_count": 24,
   "id": "d51ecc80-59d3-462e-9c2c-23512b4d2ca4",
   "metadata": {},
   "outputs": [
    {
     "data": {
      "text/plain": [
       "[8, 0, 7]"
      ]
     },
     "execution_count": 24,
     "metadata": {},
     "output_type": "execute_result"
    }
   ],
   "source": [
    "addTwoNumbers(l1 = [2,4,3], l2 = [5,6,4])"
   ]
  },
  {
   "cell_type": "code",
   "execution_count": 202,
   "id": "e9d55dde-94f8-4f6b-9eab-17c3d0a8d59a",
   "metadata": {},
   "outputs": [],
   "source": [
    "def lengthOfLongestSubstring(s):\n",
    "    charlist = list(s)\n",
    "    uniquesub = []\n",
    "    final = []\n",
    "    if len(charlist) == 0:\n",
    "        return 1\n",
    "    for num in range(len(charlist)):\n",
    "        \n",
    "        ### First, we will check whether list is going out of range #####################################################################\n",
    "        \n",
    "        if num + 2 > len(charlist):\n",
    "            break\n",
    "        else:\n",
    "            currentchar = charlist[num]\n",
    "            nextchar = charlist[num+1]\n",
    "            if currentchar == nextchar:\n",
    "                continue\n",
    "            else:\n",
    "                if currentchar in uniquesub:\n",
    "                    #print(uniquesub)\n",
    "                    final = uniquesub.copy()\n",
    "                    uniquesub = []\n",
    "                    uniquesub.append(currentchar)\n",
    "                elif nextchar in uniquesub:\n",
    "                    final = uniquesub.copy()\n",
    "                    uniquesub = []\n",
    "                    uniquesub.append(currentchar)\n",
    "                elif currentchar not in uniquesub:\n",
    "                    uniquesub.append(currentchar)\n",
    "                    #print(currentchar)\n",
    "                    #print(nextchar)\n",
    "                if nextchar not in uniquesub:\n",
    "                    #print(nextchar)\n",
    "                    uniquesub.append(nextchar)\n",
    "                    #print(nextchar)\n",
    "                #print(uniquesub)\n",
    "                    final = uniquesub.copy()\n",
    "    print(final)\n",
    "    if len(final) == 0:\n",
    "        return 1\n",
    "    return len(final)"
   ]
  },
  {
   "cell_type": "code",
   "execution_count": 212,
   "id": "7be1fe49-b2e9-4c1c-8013-3c44793bcacb",
   "metadata": {},
   "outputs": [
    {
     "data": {
      "text/plain": [
       "3"
      ]
     },
     "execution_count": 212,
     "metadata": {},
     "output_type": "execute_result"
    }
   ],
   "source": []
  },
  {
   "cell_type": "code",
   "execution_count": 102,
   "id": "85d01298-6a2f-4246-ac07-be0bab31dfc2",
   "metadata": {},
   "outputs": [],
   "source": [
    "a = 'cat'"
   ]
  },
  {
   "cell_type": "code",
   "execution_count": 181,
   "id": "686009c6-2ab9-42c3-b57e-85014dda282e",
   "metadata": {},
   "outputs": [],
   "source": [
    "class Solution:\n",
    "    def lengthOfLongestSubstring(self, s: str) -> int:\n",
    "        uniquesub = []\n",
    "        uniquesub2 = []\n",
    "        final = []\n",
    "        charlist = list(s)\n",
    "        if len(charlist) == 0:\n",
    "            return 0\n",
    "        for num in range(len(charlist)):\n",
    "            currentchar = charlist[num]\n",
    "            if currentchar in uniquesub:\n",
    "                if len(uniquesub) > len(final):\n",
    "                    final = uniquesub.copy()\n",
    "                uniquesub2 = uniquesub.copy()\n",
    "                for rep in uniquesub:\n",
    "                    if rep == charlist[num]:\n",
    "                        uniquesub2.remove(rep)\n",
    "                        break\n",
    "                    else:\n",
    "                        uniquesub2.remove(rep)\n",
    "                        continue\n",
    "                uniquesub = uniquesub2.copy()\n",
    "                uniquesub.append(currentchar)\n",
    "            elif currentchar not in uniquesub:\n",
    "                uniquesub.append(currentchar)\n",
    "                if num + 1 == len(charlist):\n",
    "                    if len(uniquesub) > len(final):\n",
    "                        final = uniquesub.copy()\n",
    "                    break\n",
    "        print(final)\n",
    "        if len(final) == 0:\n",
    "            return 1\n",
    "        return len(final)\n",
    "\n",
    "Solution.lengthOfLongestSubstring('', 'nfpdmpi')"
   ]
  },
  {
   "cell_type": "code",
   "execution_count": 43,
   "id": "6db86c32-dd86-46fa-a596-6e4c07fa9cad",
   "metadata": {},
   "outputs": [],
   "source": [
    "# Given two sorted arrays nums1 and nums2 of size m and n respectively, return the median of the two sorted arrays.####################\n",
    "\n",
    "# The overall run time complexity should be O(log (m+n)). #############################################################################\n",
    "\n",
    "\n",
    "\n",
    "def findMedianSortedArrays(nums1, nums2):\n",
    "    combined = nums1 + nums2\n",
    "    combined.sort()\n",
    "    if len(combined)%2 == 0:\n",
    "        medianNum1 = int(len(combined)/2 - 1)\n",
    "        medianNum2 = int(len(combined)/2)\n",
    "        return (combined[medianNum1] + combined[medianNum2])/2\n",
    "    else:\n",
    "        return combined[int(len(combined)/2 - 0.5)]"
   ]
  },
  {
   "cell_type": "code",
   "execution_count": 155,
   "id": "609fece1-0bbb-4f0d-b406-10b0f0d16e46",
   "metadata": {},
   "outputs": [],
   "source": [
    "# Longest Palindromic Substring #############################################################################\n",
    "## Given a string s, return the longest palindromic substring in s. ##########################################\n",
    "\n",
    "class Solution:\n",
    "    def longestPalindrome(self, s: str) -> str:\n",
    "        final = []\n",
    "        final2 = []\n",
    "        if len(s) < 3 and len(s) > 1:\n",
    "            if s[0] == s[1]:\n",
    "                return s\n",
    "            else:\n",
    "                return s[0]\n",
    "        elif len(s) < 2:\n",
    "            return s[0]\n",
    "        # Step 1: We create a list and get index numbers for the character list\n",
    "        \n",
    "        charList = list(s)\n",
    "        listOne = list(enumerate(charList))\n",
    "        palindrome = []\n",
    "        \n",
    "        ## Step 2: We check how many characters are repeating in our character list and get the index numbers of these repeating \n",
    "        ## characters\n",
    "\n",
    "        rep = [] # Creating an empty list wherein we can store character who keep repeating\n",
    "        for i in charList:\n",
    "            count = 0\n",
    "            for x,y in listOne:\n",
    "                if i == y:\n",
    "                    count +=1\n",
    "                    \n",
    "            if count > 1:\n",
    "                rep.append(i)\n",
    "        temp = []\n",
    "        if len(set(charList)) == len(set(rep)) and len(set(rep)) == 1:\n",
    "            return ''.join(charList)\n",
    "        temp2 = []\n",
    "        temp2 = [temp.append(i) for i in rep if i not in temp]\n",
    "        rep = temp.copy()\n",
    "        del temp\n",
    "        for i in rep:\n",
    "            temp = []\n",
    "            temp = [x for x,y in listOne if i == y]\n",
    "            final2 = [[final.append([temp[pos], temp[pos2], temp[pos2] - temp[pos]]) for pos2 in \n",
    "                       range(len(temp)) if pos2 > pos] for pos in range(len(temp))]\n",
    "        final.sort(key=lambda x: x[2])\n",
    "        final.reverse()\n",
    "#         print(final)\n",
    "        for i in final:\n",
    "#             print(i)\n",
    "            num1 = i[0]\n",
    "            num2 = i[1]\n",
    "\n",
    "            if num1-num2 == 1:\n",
    "                if len(palindrome) == 0:\n",
    "                    palindrome.append(charList[num1])\n",
    "                    palindrome.append(charList[num2])\n",
    "\n",
    "            median = int((num1+num2)/2)\n",
    "            if (num1+num2)%2 == 0:\n",
    "                firstSide = charList[num1: median]\n",
    "                secondSide = charList[median+1: num2+1]\n",
    "                secondSide.reverse()\n",
    "\n",
    "                if firstSide == secondSide:\n",
    "\n",
    "                    temp2 = []\n",
    "                    temp2.extend(firstSide)\n",
    "                    temp2.append(charList[median])\n",
    "                    secondSide.reverse()\n",
    "                    temp2.extend(secondSide)\n",
    "                    if len(temp2) > len(palindrome):\n",
    "                        palindrome = []\n",
    "                        palindrome.extend(temp2)\n",
    "\n",
    "                        return ''.join(palindrome)\n",
    "                    del temp2\n",
    "            else:\n",
    "                firstSide = charList[num1:median+1]\n",
    "                secondSide = charList[median+1: num2+1]\n",
    "                secondSide.reverse()\n",
    "                #print(firstSide)\n",
    "                #print(secondSide)\n",
    "                if firstSide == secondSide:\n",
    "#                         print(firstSide)\n",
    "#                         print(secondSide)\n",
    "                    temp2 = []\n",
    "                    temp2.extend(firstSide)\n",
    "                    secondSide.reverse()\n",
    "                    temp2.extend(secondSide)\n",
    "                    if len(temp2) > len(palindrome):\n",
    "                        palindrome = []\n",
    "                        palindrome.extend(temp2)\n",
    "\n",
    "                        return ''.join(palindrome)\n",
    "                    del temp2\n",
    "        if len(palindrome) == 0:\n",
    "            return charList[0]\n",
    "#         print(palindrome)\n",
    "        return ''.join(palindrome)\n",
    "        \n",
    "        "
   ]
  },
  {
   "cell_type": "code",
   "execution_count": 156,
   "id": "4c1a7e59-b9e6-4f70-b742-0c7ad5f95912",
   "metadata": {},
   "outputs": [
    {
     "data": {
      "text/plain": [
       "'rsysr'"
      ]
     },
     "execution_count": 156,
     "metadata": {},
     "output_type": "execute_result"
    }
   ],
   "source": [
    "Solution.longestPalindrome('',\"cmmrracelnclsbtdmuxtfiyahrvxuwreyorosyqapfpnsntommsujibzwhgugwtvxsdsltiiyymiofbslwbwevmjrsbbssicnxptvwmsmiifypoujftxylpyvirfueagprfyyydxeiftathaygmolkcwoaavmdmjsuwoibtuqoewaexihispsshwnsurjopdwttlzyqdbkypvjsbuidsdnpgklhwfnqdvlffcysnxeywvwvblatmxbflnuykhfhjptenhcxqinomlwalvlezefqybpuepbnymzlruuirpiatqgjgcnfmrlzshauoxuoqopcikogfwpssjdeplytcapmujyvgtfmmolnuadpwblgmcaututcrwsqrlpaaqobjfnhudmsulztbdkxpfejavastxejtpbqfftdtcdhvtpbzfuqcwkxtldtjycreimiujtxudtmokcoebhodbkgkgxjzrgyuqhozqtidltodlkziyofdeszwiobkwesdijxbbagguxvofvtphqxgvidqfkljufgubjmjllxoanbizwtedykwmneaosopynzlzvrlqcmyaahdcagfatlhwtgqxsyxwjhexfiplwtrtydjzrsysrcwszlntwrpgfedhgjzhztffqnjotlfudvczwfkhuwmdzcqgrmfttwaxocohtuscdxwfvhcymjpkqexusdaccw\") # \"xaabacxcabaax\""
   ]
  },
  {
   "cell_type": "code",
   "execution_count": 7,
   "id": "0876dd82-ce25-427f-b489-d727d13f3d28",
   "metadata": {},
   "outputs": [],
   "source": []
  },
  {
   "cell_type": "code",
   "execution_count": 38,
   "id": "2004dc5d-f0a3-4fb5-b94f-7ab5fe9f4e0d",
   "metadata": {},
   "outputs": [],
   "source": [
    "class Solution:\n",
    "    def convert(self, s: str, numRows: int) -> str:\n",
    "        if len(s) < 3 or numRows == 1:\n",
    "            return(s)\n",
    "        ult = []\n",
    "        g = globals()\n",
    "        for i in range(numRows):\n",
    "            g['finallist{0}'.format(i)] = []\n",
    "            ult.append(g['finallist{0}'.format(i)])\n",
    "#         print(ult)\n",
    "        charList = list(s)\n",
    "        count = 0\n",
    "        mid = False\n",
    "        midChar = numRows - 2\n",
    "#         print(midChar)\n",
    "        for i in charList:\n",
    "            if mid == False:\n",
    "                index = charList.index(i)\n",
    "                g['finallist{0}'.format(count)].append(i)\n",
    "                count += 1\n",
    "            elif mid == True:\n",
    "                g['finallist{0}'.format(midChar)].append(i)\n",
    "                #print(i, midChar)\n",
    "                midChar -= 1\n",
    "                if midChar <= 0:\n",
    "                    #print(True)\n",
    "                    mid = False\n",
    "                    midChar = numRows - 2\n",
    "                    if numRows == 2:\n",
    "                        count = 1\n",
    "            if count + 1 > numRows:\n",
    "                mid = True\n",
    "                count = 0\n",
    "        joined = []\n",
    "        for i in ult:\n",
    "            joined = joined + i\n",
    "        return ''.join(joined)\n",
    "        "
   ]
  },
  {
   "cell_type": "code",
   "execution_count": 39,
   "id": "044bdc4e-db5c-4109-9a6b-4584b7c2cbc8",
   "metadata": {},
   "outputs": [
    {
     "data": {
      "text/plain": [
       "'ACBD'"
      ]
     },
     "execution_count": 39,
     "metadata": {},
     "output_type": "execute_result"
    }
   ],
   "source": [
    "Solution.convert('','ABCD', 2)"
   ]
  },
  {
   "cell_type": "code",
   "execution_count": 61,
   "id": "f9270503-318f-48fa-9006-c8ef4dd98028",
   "metadata": {},
   "outputs": [],
   "source": [
    "### Given a signed 32-bit integer x, return x with its digits reversed. If reversing x causes the value to go outside the signed \n",
    "### 32-bit integer range [-231, 231 - 1], then return 0\n",
    "\n",
    "class Solution:\n",
    "    def reverse(self, x: int) -> int:\n",
    "        side = True\n",
    "        if x < 0:\n",
    "            side = 'negative'\n",
    "            x = x - (x*2)\n",
    "        elif x == 0:\n",
    "            return 0\n",
    "        x = list(str(x))\n",
    "        if x[0] == 0:\n",
    "            x.remove(0)\n",
    "        x = x[::-1]\n",
    "        x = ''.join(x)\n",
    "        x = int(x)\n",
    "        if x < -2147483648 or x > 2147483647:\n",
    "            return 0\n",
    "        if side == 'negative':\n",
    "            return -x\n",
    "        return x"
   ]
  },
  {
   "cell_type": "code",
   "execution_count": 62,
   "id": "b20788dd-ff52-429b-b6c1-0928321bff18",
   "metadata": {},
   "outputs": [
    {
     "data": {
      "text/plain": [
       "0"
      ]
     },
     "execution_count": 62,
     "metadata": {},
     "output_type": "execute_result"
    }
   ],
   "source": [
    "Solution.reverse('', 1534236469)"
   ]
  },
  {
   "cell_type": "code",
   "execution_count": 90,
   "id": "9b4a9fe1-5de8-47eb-b9a9-bdd0206e0a12",
   "metadata": {},
   "outputs": [],
   "source": [
    "class Solution:\n",
    "    def isPalindrome(self, x: int) -> bool:\n",
    "        if x < 0:\n",
    "            return False\n",
    "        x = list(str(x))\n",
    "        median = int(len(x)/2)\n",
    "        if len(x)%2 == 0:\n",
    "            firstSide = x[0:median]\n",
    "            secondSide = x[median:]\n",
    "            secondSide.reverse()\n",
    "            if firstSide == secondSide:\n",
    "                return True\n",
    "        firstSide = x[0:median]\n",
    "        secondSide = x[median+1:]\n",
    "        secondSide.reverse()\n",
    "        if firstSide == secondSide:\n",
    "            return True"
   ]
  },
  {
   "cell_type": "code",
   "execution_count": 91,
   "id": "d2af8f0d-1704-4851-b790-08fb79a702ac",
   "metadata": {},
   "outputs": [
    {
     "data": {
      "text/plain": [
       "True"
      ]
     },
     "execution_count": 91,
     "metadata": {},
     "output_type": "execute_result"
    }
   ],
   "source": [
    "Solution.isPalindrome('', 12321)"
   ]
  },
  {
   "cell_type": "code",
   "execution_count": 103,
   "id": "ac3ba32a-2341-4ddd-b4d8-647ab8d45e9a",
   "metadata": {},
   "outputs": [],
   "source": [
    "### Given an input string s and a pattern p, implement regular expression matching with support for '.' and '*' where:\n",
    "\n",
    "### '.' Matches any single character.\n",
    "### '*' Matches zero or more of the preceding element.\n",
    "#### The matching should cover the entire input string (not partial).\n",
    "\n",
    "class Solution:\n",
    "    def isMatch(self, s: str, p: str) -> bool:\n",
    "        ## Regex matching\n",
    "        import re\n",
    "\n",
    "        ## dot (.) matches any single character\n",
    "        ## asterrisk (*) Matches zero or more of the preceding element.\n",
    "        # Find index numbers of . and *\n",
    "        \n",
    "        pattern = p\n",
    "        string = s\n",
    "        \n",
    "        if len(pattern) > len(string):\n",
    "            return False\n",
    "        asterisks = []\n",
    "        dots = []\n",
    "        count = 0\n",
    "        acount = 0\n",
    "        temp = list(pattern)\n",
    "        for i in temp:\n",
    "            if i == '*':\n",
    "                acount += 1\n",
    "        del(temp)\n",
    "            \n",
    "        def ast(m):\n",
    "            p2 = pattern\n",
    "            char = p2[m-1]\n",
    "#             print(char)\n",
    "            p2 = list(p2)\n",
    "            p2[m] = p2[m-1]\n",
    "            while True:\n",
    "                if m+1 > len(string):\n",
    "                    return ''.join(p2)\n",
    "                if string[m+1] == char:\n",
    "                    p2.insert(m, char)\n",
    "                    print(p2)\n",
    "                    m+=1\n",
    "                else:\n",
    "                    return ''.join(p2)\n",
    "        pattern = ast(re.search(r'[*]', pattern).start())\n",
    "        for i in range(acount):\n",
    "            pattern = ast(re.search(r'[*]', pattern).start())\n",
    "            print(pattern)\n",
    "        print(pattern)\n",
    "        \n",
    "#         count = 0\n",
    "#         for match in re.finditer(r'[.]', pattern):\n",
    "#             count += 1\n",
    "#             m = match.start()\n",
    "#             dots.append(m)\n",
    "#         for i in dots:\n",
    "#             pattern[i] = string[i]\n",
    "#         for i in asterisks:\n",
    "#             pattern[i] = pattern[i-1]\n",
    "#         if ''.join(pattern) == string:\n",
    "#             return True\n",
    "#         if len(pattern) == len(string):\n",
    "#             return False\n",
    "#         print(asterisks)\n",
    "#         if ''.join(pattern) == string:\n",
    "#             return True\n",
    "#         if len(pattern) == len(string):\n",
    "#             return False\n",
    "#         print(''.join(pattern))"
   ]
  },
  {
   "cell_type": "code",
   "execution_count": 105,
   "id": "d360f56c-d5a0-4100-abd4-f747d9f27c5d",
   "metadata": {},
   "outputs": [
    {
     "name": "stdout",
     "output_type": "stream",
     "text": [
      "['a', '.', 'd', '*', 'f', '*', 'a', 'f', '*']\n",
      "['a', '.', 'd', 'd', 'f', '*', 'a', 'f', '*']\n",
      "['a', '.', 'd', 'd', 'd', 'f', '*', 'a', 'f', '*']\n",
      "['a', '.', 'd', 'd', 'd', 'd', 'f', '*', 'a', 'f', '*']\n",
      "['a', '.', 'd', 'd', 'd', 'd', 'f', '*', 'a', 'f', '*']\n",
      "['a', '.', 'd', 'd', 'd', 'd', 'f', 'f', 'a', 'f', '*']\n",
      "a.ddddffaf*\n",
      "['a', '.', 'd', 'd', 'd', 'd', 'f', 'f', 'a', 'f', '*']\n",
      "['a', '.', 'd', 'd', 'd', 'd', 'f', 'f', 'a', 'f', 'f']\n",
      "['a', '.', 'd', 'd', 'd', 'd', 'f', 'f', 'a', 'f', 'f', 'f']\n",
      "['a', '.', 'd', 'd', 'd', 'd', 'f', 'f', 'a', 'f', 'f', 'f', 'f']\n",
      "['a', '.', 'd', 'd', 'd', 'd', 'f', 'f', 'a', 'f', 'f', 'f', 'f', 'f']\n",
      "['a', '.', 'd', 'd', 'd', 'd', 'f', 'f', 'a', 'f', 'f', 'f', 'f', 'f', 'f']\n",
      "['a', '.', 'd', 'd', 'd', 'd', 'f', 'f', 'a', 'f', 'f', 'f', 'f', 'f', 'f', 'f']\n"
     ]
    },
    {
     "ename": "IndexError",
     "evalue": "string index out of range",
     "output_type": "error",
     "traceback": [
      "\u001b[0;31m---------------------------------------------------------------------------\u001b[0m",
      "\u001b[0;31mIndexError\u001b[0m                                Traceback (most recent call last)",
      "\u001b[0;32m<ipython-input-105-8b4704f8dc58>\u001b[0m in \u001b[0;36m<module>\u001b[0;34m\u001b[0m\n\u001b[0;32m----> 1\u001b[0;31m \u001b[0mSolution\u001b[0m\u001b[0;34m.\u001b[0m\u001b[0misMatch\u001b[0m\u001b[0;34m(\u001b[0m\u001b[0;34m''\u001b[0m\u001b[0;34m,\u001b[0m \u001b[0;34m'afdddffdaffffff'\u001b[0m\u001b[0;34m,\u001b[0m\u001b[0;34m'a.d*f*af*'\u001b[0m\u001b[0;34m)\u001b[0m\u001b[0;34m\u001b[0m\u001b[0;34m\u001b[0m\u001b[0m\n\u001b[0m",
      "\u001b[0;32m<ipython-input-103-b76b3c59cbe9>\u001b[0m in \u001b[0;36misMatch\u001b[0;34m(self, s, p)\u001b[0m\n\u001b[1;32m     48\u001b[0m         \u001b[0mpattern\u001b[0m \u001b[0;34m=\u001b[0m \u001b[0mast\u001b[0m\u001b[0;34m(\u001b[0m\u001b[0mre\u001b[0m\u001b[0;34m.\u001b[0m\u001b[0msearch\u001b[0m\u001b[0;34m(\u001b[0m\u001b[0;34mr'[*]'\u001b[0m\u001b[0;34m,\u001b[0m \u001b[0mpattern\u001b[0m\u001b[0;34m)\u001b[0m\u001b[0;34m.\u001b[0m\u001b[0mstart\u001b[0m\u001b[0;34m(\u001b[0m\u001b[0;34m)\u001b[0m\u001b[0;34m)\u001b[0m\u001b[0;34m\u001b[0m\u001b[0;34m\u001b[0m\u001b[0m\n\u001b[1;32m     49\u001b[0m         \u001b[0;32mfor\u001b[0m \u001b[0mi\u001b[0m \u001b[0;32min\u001b[0m \u001b[0mrange\u001b[0m\u001b[0;34m(\u001b[0m\u001b[0macount\u001b[0m\u001b[0;34m)\u001b[0m\u001b[0;34m:\u001b[0m\u001b[0;34m\u001b[0m\u001b[0;34m\u001b[0m\u001b[0m\n\u001b[0;32m---> 50\u001b[0;31m             \u001b[0mpattern\u001b[0m \u001b[0;34m=\u001b[0m \u001b[0mast\u001b[0m\u001b[0;34m(\u001b[0m\u001b[0mre\u001b[0m\u001b[0;34m.\u001b[0m\u001b[0msearch\u001b[0m\u001b[0;34m(\u001b[0m\u001b[0;34mr'[*]'\u001b[0m\u001b[0;34m,\u001b[0m \u001b[0mpattern\u001b[0m\u001b[0;34m)\u001b[0m\u001b[0;34m.\u001b[0m\u001b[0mstart\u001b[0m\u001b[0;34m(\u001b[0m\u001b[0;34m)\u001b[0m\u001b[0;34m)\u001b[0m\u001b[0;34m\u001b[0m\u001b[0;34m\u001b[0m\u001b[0m\n\u001b[0m\u001b[1;32m     51\u001b[0m             \u001b[0mprint\u001b[0m\u001b[0;34m(\u001b[0m\u001b[0mpattern\u001b[0m\u001b[0;34m)\u001b[0m\u001b[0;34m\u001b[0m\u001b[0;34m\u001b[0m\u001b[0m\n\u001b[1;32m     52\u001b[0m         \u001b[0mprint\u001b[0m\u001b[0;34m(\u001b[0m\u001b[0mpattern\u001b[0m\u001b[0;34m)\u001b[0m\u001b[0;34m\u001b[0m\u001b[0;34m\u001b[0m\u001b[0m\n",
      "\u001b[0;32m<ipython-input-103-b76b3c59cbe9>\u001b[0m in \u001b[0;36mast\u001b[0;34m(m)\u001b[0m\n\u001b[1;32m     40\u001b[0m \u001b[0;31m#                 if m+1 > len(string):\u001b[0m\u001b[0;34m\u001b[0m\u001b[0;34m\u001b[0m\u001b[0;34m\u001b[0m\u001b[0m\n\u001b[1;32m     41\u001b[0m \u001b[0;31m#                     return ''.join(p2)\u001b[0m\u001b[0;34m\u001b[0m\u001b[0;34m\u001b[0m\u001b[0;34m\u001b[0m\u001b[0m\n\u001b[0;32m---> 42\u001b[0;31m                 \u001b[0;32mif\u001b[0m \u001b[0mstring\u001b[0m\u001b[0;34m[\u001b[0m\u001b[0mm\u001b[0m\u001b[0;34m]\u001b[0m \u001b[0;34m==\u001b[0m \u001b[0mchar\u001b[0m\u001b[0;34m:\u001b[0m\u001b[0;34m\u001b[0m\u001b[0;34m\u001b[0m\u001b[0m\n\u001b[0m\u001b[1;32m     43\u001b[0m                     \u001b[0mp2\u001b[0m\u001b[0;34m.\u001b[0m\u001b[0minsert\u001b[0m\u001b[0;34m(\u001b[0m\u001b[0mm\u001b[0m\u001b[0;34m,\u001b[0m \u001b[0mchar\u001b[0m\u001b[0;34m)\u001b[0m\u001b[0;34m\u001b[0m\u001b[0;34m\u001b[0m\u001b[0m\n\u001b[1;32m     44\u001b[0m                     \u001b[0mprint\u001b[0m\u001b[0;34m(\u001b[0m\u001b[0mp2\u001b[0m\u001b[0;34m)\u001b[0m\u001b[0;34m\u001b[0m\u001b[0;34m\u001b[0m\u001b[0m\n",
      "\u001b[0;31mIndexError\u001b[0m: string index out of range"
     ]
    }
   ],
   "source": [
    "Solution.isMatch('', 'afdddffdaffffff','a.d*f*af*')"
   ]
  },
  {
   "cell_type": "code",
   "execution_count": 22,
   "id": "d006eb6a-5776-4028-bb4c-7e2552614a28",
   "metadata": {},
   "outputs": [
    {
     "name": "stdout",
     "output_type": "stream",
     "text": [
      "6\n",
      "7\n",
      "8\n",
      "9\n",
      "10\n"
     ]
    }
   ],
   "source": [
    "a = 5\n",
    "for i in range(a):\n",
    "    a+=1\n",
    "    print(a)"
   ]
  },
  {
   "cell_type": "code",
   "execution_count": 77,
   "id": "176d2714-0e57-40d7-b29e-fe0e1a255884",
   "metadata": {},
   "outputs": [],
   "source": [
    "acount = 0\n",
    "temp = list(pattern)\n",
    "for i in temp:\n",
    "    if i == '*':\n",
    "        acount += 1"
   ]
  },
  {
   "cell_type": "code",
   "execution_count": 78,
   "id": "a0a97e1a",
   "metadata": {},
   "outputs": [
    {
     "data": {
      "text/plain": [
       "3"
      ]
     },
     "execution_count": 78,
     "metadata": {},
     "output_type": "execute_result"
    }
   ],
   "source": [
    "acount"
   ]
  },
  {
   "cell_type": "code",
   "execution_count": null,
   "id": "2d8caf69-b9ff-4b1d-a5b6-78c19d4013fb",
   "metadata": {},
   "outputs": [],
   "source": []
  }
 ],
 "metadata": {
  "kernelspec": {
   "display_name": "Python 3",
   "language": "python",
   "name": "python3"
  },
  "language_info": {
   "codemirror_mode": {
    "name": "ipython",
    "version": 3
   },
   "file_extension": ".py",
   "mimetype": "text/x-python",
   "name": "python",
   "nbconvert_exporter": "python",
   "pygments_lexer": "ipython3",
   "version": "3.8.5"
  }
 },
 "nbformat": 4,
 "nbformat_minor": 5
}
